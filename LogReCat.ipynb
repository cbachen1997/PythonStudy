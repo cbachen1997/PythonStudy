{
  "nbformat": 4,
  "nbformat_minor": 0,
  "metadata": {
    "colab": {
      "name": "LogReCat.ipynb",
      "provenance": [],
      "authorship_tag": "ABX9TyMwoXN5UV1Ap33iQn8uZPrx",
      "include_colab_link": true
    },
    "kernelspec": {
      "name": "python3",
      "display_name": "Python 3"
    }
  },
  "cells": [
    {
      "cell_type": "markdown",
      "metadata": {
        "id": "view-in-github",
        "colab_type": "text"
      },
      "source": [
        "<a href=\"https://colab.research.google.com/github/cbachen1997/PythonStudy/blob/master/LogReCat.ipynb\" target=\"_parent\"><img src=\"https://colab.research.google.com/assets/colab-badge.svg\" alt=\"Open In Colab\"/></a>"
      ]
    },
    {
      "cell_type": "code",
      "metadata": {
        "id": "sXImi3qkPItL",
        "colab_type": "code",
        "colab": {
          "base_uri": "https://localhost:8080/",
          "height": 54
        },
        "outputId": "88ecae78-97e2-4fba-979a-93c575220dba"
      },
      "source": [
        "#挂载谷歌云盘\n",
        "from google.colab import drive\n",
        "drive.mount('/content/gdrive')\n",
        "#更改运行目录\n",
        "import os\n",
        "os.chdir(\"/content/gdrive/My Drive/AndrewNgTest/week2-LogisticRegression\")"
      ],
      "execution_count": null,
      "outputs": [
        {
          "output_type": "stream",
          "text": [
            "Drive already mounted at /content/gdrive; to attempt to forcibly remount, call drive.mount(\"/content/gdrive\", force_remount=True).\n"
          ],
          "name": "stdout"
        }
      ]
    },
    {
      "cell_type": "code",
      "metadata": {
        "id": "oAZ3YuOLPoS_",
        "colab_type": "code",
        "colab": {}
      },
      "source": [
        "####google云盘授权#####\n",
        "##每个notebook执行一次###\n",
        "__author__='CBA'\n",
        "from google.colab import drive\n",
        "\n",
        "#增加PyDrive操作库\n",
        "from pydrive.auth import GoogleAuth\n",
        "from pydrive.drive import GoogleDrive\n",
        "from google.colab import auth\n",
        "from oauth2client.client import GoogleCredentials\n",
        "\n",
        "#授权登录\n",
        "auth.authenticate_user()\n",
        "gauth=GoogleAuth()\n",
        "gauth.credentials=GoogleCredentials.get_application_default()\n",
        "drive=GoogleDrive(gauth)"
      ],
      "execution_count": null,
      "outputs": []
    },
    {
      "cell_type": "code",
      "metadata": {
        "id": "lVqb4NSkQDVR",
        "colab_type": "code",
        "colab": {}
      },
      "source": [
        "import numpy as np\n",
        "import matplotlib.pyplot as plt\n",
        "import h5py#处理h5数据集\n",
        "from lr_utils import load_dataset"
      ],
      "execution_count": null,
      "outputs": []
    },
    {
      "cell_type": "code",
      "metadata": {
        "id": "8-dWrsEoQRRm",
        "colab_type": "code",
        "colab": {}
      },
      "source": [
        "train_x,train_y,test_x,test_y,classes=load_dataset()\n",
        "#train_x中有209张64X64的图像\n",
        "#train_y保存的0|1的标签，1是猫，0不是\n",
        "#test_x有50张64X64\n",
        "#classes保存用bytes类型的字符串数据，b'non-cat',b'cat'"
      ],
      "execution_count": null,
      "outputs": []
    },
    {
      "cell_type": "code",
      "metadata": {
        "id": "bQemcwsJRHPu",
        "colab_type": "code",
        "colab": {}
      },
      "source": [
        "#show img\n",
        "index=7\n",
        "plt.imshow(train_x[index])"
      ],
      "execution_count": null,
      "outputs": []
    },
    {
      "cell_type": "code",
      "metadata": {
        "id": "HoEX7lPmR8rt",
        "colab_type": "code",
        "colab": {}
      },
      "source": [
        "print(\"y=\" + str(train_y[:,index]) + \", it's a \" + classes[np.squeeze(train_y[:,index])].decode(\"utf-8\") + \"' picture\")\n",
        "#np.squeeze压缩维度，压缩后维度为1的消失，\n",
        "#classes[]需要一个数字，而不是数组"
      ],
      "execution_count": null,
      "outputs": []
    },
    {
      "cell_type": "code",
      "metadata": {
        "id": "7PTGQmM1R-2B",
        "colab_type": "code",
        "colab": {}
      },
      "source": [
        "m_train = train_x.shape[0] #训练集里图片的数量。\n",
        "m_test = test_x.shape[0] #测试集里图片的数量。\n",
        "num_px = train_x.shape[1] #训练、测试集里面的图片的宽度和高度（均为64x64）。\n",
        "\n",
        "print (\"训练集的数量: m_train = \" + str(m_train))\n",
        "print (\"测试集的数量 : m_test = \" + str(m_test))\n",
        "print (\"每张图片的宽/高 : num_px = \" + str(num_px))\n",
        "print (\"每张图片的大小 : (\" + str(num_px) + \", \" + str(num_px) + \", 3)\")\n",
        "print (\"训练集_图片的维数 : \" + str(train_x.shape))\n",
        "print (\"训练集_标签的维数 : \" + str(train_y.shape))\n",
        "print (\"测试集_图片的维数: \" + str(test_x.shape))\n",
        "print (\"测试集_标签的维数: \" + str(test_y.shape))"
      ],
      "execution_count": null,
      "outputs": []
    },
    {
      "cell_type": "code",
      "metadata": {
        "id": "NH5qESqgUz_6",
        "colab_type": "code",
        "colab": {}
      },
      "source": [
        "#数据降维，获得数据列向量，209张，每张64X64X3的特征。\n",
        "#将(数量，长，宽，高)平铺成（长X宽X高，数量）\n",
        "train_x_flatten=train_x.reshape(train_x.shape[0],-1).T\n",
        "test_x_flatten=test_x.reshape(-1,test_x.shape[0])"
      ],
      "execution_count": 48,
      "outputs": []
    },
    {
      "cell_type": "code",
      "metadata": {
        "id": "FL2kYmoGV-WB",
        "colab_type": "code",
        "colab": {}
      },
      "source": [
        "#data normalize\n",
        "trainset_x=train_x_flatten/255.0\n",
        "testset_x=test_x_flatten/255.0\n",
        "testset_x.shape"
      ],
      "execution_count": null,
      "outputs": []
    },
    {
      "cell_type": "code",
      "metadata": {
        "id": "NmLhbjQ3WuRm",
        "colab_type": "code",
        "colab": {}
      },
      "source": [
        "#构建神经网络\n",
        "#z=wx+b,此处x为trainset_x\n",
        "#a=sigmoid(z)\n",
        "#loss=L(a,y)\n",
        "#J=-1/m(求和)(yloga+(1-y)log(1-a))'"
      ],
      "execution_count": 53,
      "outputs": []
    },
    {
      "cell_type": "code",
      "metadata": {
        "id": "awlw_HN0X2c8",
        "colab_type": "code",
        "colab": {}
      },
      "source": [
        "def sigmoid(z):\n",
        "  \"\"\"\n",
        "  parameters:\n",
        "    z - 任意大小的数组\n",
        "  return:\n",
        "    s - sigmoid结果\n",
        "  \"\"\"\n",
        "  s = 1/(1+np.exp(-z))\n",
        "  return s\n",
        "#测试sigmoid\n",
        "assert(sigmoid(0)==0.5)\n",
        "sigmoid(9.2)==0.9998989708060922"
      ],
      "execution_count": 54,
      "outputs": []
    },
    {
      "cell_type": "code",
      "metadata": {
        "id": "StulHVY2YPns",
        "colab_type": "code",
        "colab": {}
      },
      "source": [
        "#初始化参数(w,b)\n",
        "def initialize_wb(dim):\n",
        "  \"\"\"\n",
        "  将w创建为(dim,1)的0向量，b初始化为0\n",
        "  参数：\n",
        "          dim  - 我们想要的w矢量的大小（或者这种情况下的参数数量）\n",
        "      \n",
        "      返回：\n",
        "          w  - 维度为（dim，1）的初始化向量。\n",
        "          b  - 初始化的标量（对应于偏差）\n",
        "  \"\"\"\n",
        "  w=np.zeros((dim,1))\n",
        "  b=0\n",
        "  assert(w.shape == (dim, 1)) #w的维度是(dim,1)\n",
        "  assert(isinstance(b, float) or isinstance(b, int)) #b的类型是float或者是int\n",
        "\n",
        "  return (w,b)"
      ],
      "execution_count": 63,
      "outputs": []
    },
    {
      "cell_type": "code",
      "metadata": {
        "id": "phT2yn5RaWjC",
        "colab_type": "code",
        "colab": {}
      },
      "source": [
        "#构建正向传播函数\n",
        "def propagate(w,b,X,Y):\n",
        "    \"\"\"\n",
        "    实现前向和后向传播的成本函数及其梯度。\n",
        "    参数：\n",
        "        w  - 权重，大小不等的数组（num_px * num_px * 3，1）\n",
        "        b  - 偏差，一个标量\n",
        "        X  - 矩阵类型为（num_px * num_px * 3，训练数量）\n",
        "        Y  - 真正的“标签”矢量（如果非猫则为0，如果是猫则为1），矩阵维度为(1,训练数据数量)\n",
        "\n",
        "    返回：\n",
        "        cost- 逻辑回归的负对数似然成本\n",
        "        dw  - 相对于w的损失梯度，因此与w相同的形状\n",
        "        db  - 相对于b的损失梯度，因此与b的形状相同\n",
        "    \"\"\"\n",
        "    m=X.shape[1]\n",
        "  \n",
        "    #正向传播\n",
        "    A = sigmoid(np.dot(w.T,X)+b)\n",
        "\n",
        "    cost=(-1.0/m)*np.sum(Y*np.log(A)+(1-Y)*np.log(1-A))\n",
        "\n",
        "    #反向传播\n",
        "    dw=(1.0/m)*np.dot(X,(A-Y).T)#A-Y为dz\n",
        "    db=(1.0/m)*np.sum(A-Y)\n",
        "\n",
        "    #使用断言确保我的数据是正确的\n",
        "    assert(dw.shape == w.shape)\n",
        "    assert(db.dtype == float)\n",
        "    cost = np.squeeze(cost)\n",
        "    assert(cost.shape == ())\n",
        "    #创建一个字典，把dw和db保存起来。\n",
        "    grads = {\n",
        "                \"dw\": dw,\n",
        "                \"db\": db\n",
        "             }\n",
        "    return (grads , cost)"
      ],
      "execution_count": 93,
      "outputs": []
    },
    {
      "cell_type": "code",
      "metadata": {
        "id": "n2nPPRufcSsX",
        "colab_type": "code",
        "colab": {
          "base_uri": "https://localhost:8080/",
          "height": 101
        },
        "outputId": "99d29f08-d263-4484-fcc4-f1489b95c997"
      },
      "source": [
        "#测试正向传播\n",
        "print('================Testing==============')\n",
        "#初始化参数\n",
        "w, b, X, Y = np.array([[1], [2]]), 2, np.array([[1,2], [3,4]]), np.array([[1, 0]])\n",
        "grads, cost = propagate(w, b, X, Y)\n",
        "print (\"dw = \" + str(grads[\"dw\"]))\n",
        "print (\"db = \" + str(grads[\"db\"]))\n",
        "print (\"cost = \" + str(cost))\n",
        "\n"
      ],
      "execution_count": 95,
      "outputs": [
        {
          "output_type": "stream",
          "text": [
            "================Testing==============\n",
            "dw = [[0.99993216]\n",
            " [1.99980262]]\n",
            "db = 0.49993523062470574\n",
            "cost = 6.000064773192205\n"
          ],
          "name": "stdout"
        }
      ]
    },
    {
      "cell_type": "code",
      "metadata": {
        "id": "MbAK4fMufOKY",
        "colab_type": "code",
        "colab": {}
      },
      "source": [
        "#优化参数\n",
        "def optimize(w,b,X,Y,num_iter,epsilon,print_cost=True):\n",
        "    \"\"\"\n",
        "    此函数通过运行梯度下降算法来优化w和b\n",
        "    \n",
        "    参数：\n",
        "        w  - 权重，大小不等的数组（num_px * num_px * 3，1）\n",
        "        b  - 偏差，一个标量\n",
        "        X  - 维度为（num_px * num_px * 3，训练数据的数量）的数组。\n",
        "        Y  - 真正的“标签”矢量（如果非猫则为0，如果是猫则为1），矩阵维度为(1,训练数据的数量)\n",
        "        num_iterations  - 优化循环的迭代次数\n",
        "        epsilon  - 梯度下降更新规则的学习率\n",
        "        print_cost  - 每100步打印一次损失值\n",
        "    \n",
        "    返回：\n",
        "        params  - 包含权重w和偏差b的字典\n",
        "        grads  - 包含权重和偏差相对于成本函数的梯度的字典\n",
        "        成本 - 优化期间计算的所有成本列表，将用于绘制学习曲线。\n",
        "    \n",
        "    提示：\n",
        "    我们需要写下两个步骤并遍历它们：\n",
        "        1）计算当前参数的成本和梯度，使用propagate（）。\n",
        "        2）使用w和b的梯度下降法则更新参数。\n",
        "    \"\"\"\n",
        "    costs=[]\n",
        "    #最外层训练，训练次数\n",
        "    for i in range(num_iter):\n",
        "      grads,cost=propagate(w,b,X,Y)\n",
        "      dw = grads[\"dw\"]\n",
        "      db = grads[\"db\"]\n",
        "      #梯度下降\n",
        "      w = w - epsilon * dw\n",
        "      b = b - epsilon * db\n",
        "      #记录成本,每100次获得一次成本\n",
        "      if i % 100 == 0:\n",
        "          costs.append(cost)\n",
        "      #打印成本数据\n",
        "      if (print_cost) and (i % 100 == 0):\n",
        "          print(\"迭代的次数: %i ， 误差值： %f\" % (i,cost))\n",
        "    #保存w,b和dw,db\n",
        "         \n",
        "    params  = {\n",
        "                \"w\" : w,\n",
        "                \"b\" : b }\n",
        "    grads = {\n",
        "            \"dw\": dw,\n",
        "            \"db\": db }\n",
        "    return (params , grads , costs)"
      ],
      "execution_count": 102,
      "outputs": []
    },
    {
      "cell_type": "code",
      "metadata": {
        "id": "MKLRAq0YgRJ6",
        "colab_type": "code",
        "colab": {}
      },
      "source": [
        "#测试optimize\n",
        "print(\"====================测试optimize====================\")\n",
        "w, b, X, Y = np.array([[1], [2]]), 2, np.array([[1,2], [3,4]]), np.array([[1, 0]])\n",
        "params , grads , costs = optimize(w , b , X , Y ,100 , epsilon = 0.009 , print_cost = True)\n",
        "print (\"w = \" + str(params[\"w\"]))\n",
        "print (\"b = \" + str(params[\"b\"]))\n",
        "print (\"dw = \" + str(grads[\"dw\"]))\n",
        "print (\"db = \" + str(grads[\"db\"]))\n",
        "print (str(costs))"
      ],
      "execution_count": null,
      "outputs": []
    },
    {
      "cell_type": "code",
      "metadata": {
        "id": "SLubTWO1h0CB",
        "colab_type": "code",
        "colab": {}
      },
      "source": [
        "#已经会输出已学习到的w,b，利用梯度下降后更新的w,b下面完成预测。\n",
        "def predict(w,b,X):\n",
        "  \"\"\"\n",
        "  使用学习逻辑回归参数logistic （w，b）预测标签是0还是1，\n",
        "  \n",
        "  参数：\n",
        "      w  - 权重，大小不等的数组（num_px * num_px * 3，1）\n",
        "      b  - 偏差，一个标量\n",
        "      X  - 维度为（num_px * num_px * 3，训练数据的数量）的数据\n",
        "  \n",
        "  返回：\n",
        "      Y_prediction  - 包含X中所有图片的所有预测【0 | 1】的一个numpy数组（向量）\n",
        "  \n",
        "  \"\"\"\n",
        "  m=X.shape[1] \n",
        "  Y_prediction=np.zeros((1,m))#m张预测结果\n",
        "  w=w.reshape(X.shape[0],1)#变为X维度行，1列的向量\n",
        "  #计预测猫在图片中出现的概率\n",
        "  A = sigmoid(np.dot(w.T , X) + b)\n",
        "  for i in range(A.shape[1]):\n",
        "      #将概率a [0，i]转换为实际预测p [0，i]\n",
        "      #print(A[0,i])\n",
        "      Y_prediction[0,i] = 1 if A[0,i] > 0.5 else 0\n",
        "  #使用断言\n",
        "  assert(Y_prediction.shape == (1,m))\n",
        "\n",
        "  return Y_prediction"
      ],
      "execution_count": 136,
      "outputs": []
    },
    {
      "cell_type": "code",
      "metadata": {
        "id": "pBvFYowfj35x",
        "colab_type": "code",
        "colab": {}
      },
      "source": [
        "#模型整合\n",
        "def model(X_train , Y_train , X_test , Y_test , num_iterations = 2000 , learning_rate = 0.5 , print_cost = False):\n",
        "    \"\"\"\n",
        "    通过调用之前实现的函数来构建逻辑回归模型\n",
        "    \n",
        "    参数：\n",
        "        X_train  - numpy的数组,维度为（num_px * num_px * 3，m_train）的训练集\n",
        "        Y_train  - numpy的数组,维度为（1，m_train）（矢量）的训练标签集\n",
        "        X_test   - numpy的数组,维度为（num_px * num_px * 3，m_test）的测试集\n",
        "        Y_test   - numpy的数组,维度为（1，m_test）的（向量）的测试标签集\n",
        "        num_iterations  - 表示用于优化参数的迭代次数的超参数\n",
        "        learning_rate  - 表示optimize（）更新规则中使用的学习速率的超参数\n",
        "        print_cost  - 设置为true以每100次迭代打印成本\n",
        "    \n",
        "    返回：\n",
        "        d  - 包含有关模型信息的字典。\n",
        "    \"\"\"\n",
        "    #1.初始化w,b，利用归一化的特征结果！\n",
        "    w,b=initialize_wb(trainset_x.shape[0])\n",
        "    #2.获得参数，梯度，成本\n",
        "    parameters , grads , costs = optimize(w , b , X_train , Y_train,num_iterations , learning_rate , print_cost)\n",
        "    #从字典“参数”中检索参数w和b\n",
        "    w , b = parameters[\"w\"] , parameters[\"b\"]\n",
        "\n",
        "    #3.测试\n",
        "    Y_prediction_test = predict(w , b, X_test)\n",
        "    #print(Y_prediction_test)\n",
        "    #print(Y_test)\n",
        "    print(\"测试集准确性：\"  , format(100 - np.mean(np.abs(Y_prediction_test - Y_test)) * 100) ,\"%\")\n",
        "    d = {\n",
        "            \"costs\" : costs,\n",
        "            \"Y_prediction_test\" : Y_prediction_test,\n",
        "            \"w\" : w,\n",
        "            \"b\" : b,\n",
        "            \"learning_rate\" : learning_rate,\n",
        "            \"num_iterations\" : num_iterations }\n",
        "    return d\n"
      ],
      "execution_count": 138,
      "outputs": []
    },
    {
      "cell_type": "code",
      "metadata": {
        "id": "UdfW9I-lv7Cx",
        "colab_type": "code",
        "colab": {}
      },
      "source": [
        "#最终测试\n",
        "result=model(trainset_x,train_y,testset_x,test_y,num_iterations=1000,learning_rate=0.01,print_cost=True)"
      ],
      "execution_count": null,
      "outputs": []
    },
    {
      "cell_type": "code",
      "metadata": {
        "id": "CwuP3d5VxEHb",
        "colab_type": "code",
        "colab": {}
      },
      "source": [
        "#绘制图\n",
        "costs=np.squeeze(result['costs'])\n",
        "plt.plot(costs)\n",
        "plt.ylabel('cost')\n",
        "plt.xlabel('iterations (per hundreds)')\n",
        "plt.title(\"Learning rate =\" + str(result[\"learning_rate\"]))\n",
        "plt.show()"
      ],
      "execution_count": null,
      "outputs": []
    },
    {
      "cell_type": "code",
      "metadata": {
        "id": "jRjo_DLSyitr",
        "colab_type": "code",
        "colab": {
          "base_uri": "https://localhost:8080/",
          "height": 686
        },
        "outputId": "47de2365-4142-4b00-a2b0-0624124382b8"
      },
      "source": [
        "#比较学习率\n",
        "learning_rates=[0.1,0.5,0.05,0.005]\n",
        "models = {}\n",
        "for i in learning_rates:\n",
        "  print (\"learning rate is: \" + str(i))\n",
        "  models[str(i)] = model(trainset_x,train_y,testset_x,test_y, num_iterations = 1500, learning_rate = i, print_cost = False)\n",
        "  print ('\\n' + \"-------------------------------------------------------\" + '\\n')\n",
        "for i in learning_rates:\n",
        "  plt.plot(np.squeeze(models[str(i)][\"costs\"]), label= str(models[str(i)][\"learning_rate\"]))\n",
        "plt.ylabel('cost')\n",
        "plt.xlabel('iterations')\n",
        "\n",
        "legend = plt.legend(loc='upper center', shadow=True)\n",
        "frame = legend.get_frame()\n",
        "frame.set_facecolor('0.90')\n",
        "plt.show()"
      ],
      "execution_count": 139,
      "outputs": [
        {
          "output_type": "stream",
          "text": [
            "learning rate is: 0.1\n"
          ],
          "name": "stdout"
        },
        {
          "output_type": "stream",
          "text": [
            "/usr/local/lib/python3.6/dist-packages/ipykernel_launcher.py:21: RuntimeWarning: divide by zero encountered in log\n",
            "/usr/local/lib/python3.6/dist-packages/ipykernel_launcher.py:21: RuntimeWarning: invalid value encountered in multiply\n"
          ],
          "name": "stderr"
        },
        {
          "output_type": "stream",
          "text": [
            "测试集准确性： 66.0 %\n",
            "\n",
            "-------------------------------------------------------\n",
            "\n",
            "learning rate is: 0.5\n"
          ],
          "name": "stdout"
        },
        {
          "output_type": "stream",
          "text": [
            "/usr/local/lib/python3.6/dist-packages/ipykernel_launcher.py:8: RuntimeWarning: overflow encountered in exp\n",
            "  \n"
          ],
          "name": "stderr"
        },
        {
          "output_type": "stream",
          "text": [
            "测试集准确性： 66.0 %\n",
            "\n",
            "-------------------------------------------------------\n",
            "\n",
            "learning rate is: 0.05\n",
            "测试集准确性： 66.0 %\n",
            "\n",
            "-------------------------------------------------------\n",
            "\n",
            "learning rate is: 0.005\n",
            "测试集准确性： 66.0 %\n",
            "\n",
            "-------------------------------------------------------\n",
            "\n"
          ],
          "name": "stdout"
        },
        {
          "output_type": "display_data",
          "data": {
            "image/png": "[encoded data removed]",
            "text/plain": [
              "<Figure size 432x288 with 1 Axes>"
            ]
          },
          "metadata": {
            "tags": [],
            "needs_background": "light"
          }
        }
      ]
    }
  ]
}